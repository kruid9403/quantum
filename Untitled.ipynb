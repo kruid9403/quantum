{
 "cells": [
  {
   "cell_type": "code",
   "execution_count": 1,
   "id": "94fbdb25-b157-4153-9a17-aa6012e06089",
   "metadata": {},
   "outputs": [],
   "source": [
    "import cirq"
   ]
  },
  {
   "cell_type": "code",
   "execution_count": 2,
   "id": "69c2616f-68dd-46dd-98e8-9566d0da684e",
   "metadata": {},
   "outputs": [],
   "source": [
    "qubit = cirq.GridQubit(0,0)"
   ]
  },
  {
   "cell_type": "code",
   "execution_count": 3,
   "id": "5dd130a8-1d8a-4399-bef9-431899c11e25",
   "metadata": {},
   "outputs": [
    {
     "name": "stdout",
     "output_type": "stream",
     "text": [
      "circuit\n",
      "(0, 0): ───X^0.5───M('m')───\n"
     ]
    }
   ],
   "source": [
    "circuit = cirq.Circuit(\n",
    "    cirq.X(qubit)**0.5,\n",
    "    cirq.measure(qubit, key='m')\n",
    ")\n",
    "print(\"circuit\")\n",
    "print(circuit)"
   ]
  },
  {
   "cell_type": "code",
   "execution_count": 4,
   "id": "9db255c1-ff8e-41c5-9d60-9b92431f055c",
   "metadata": {},
   "outputs": [
    {
     "name": "stdout",
     "output_type": "stream",
     "text": [
      "results\n",
      "m=10101000001101011111\n"
     ]
    }
   ],
   "source": [
    "simulator = cirq.Simulator()\n",
    "result = simulator.run(circuit, repetitions=20)\n",
    "print(\"results\")\n",
    "print(result)"
   ]
  },
  {
   "cell_type": "code",
   "execution_count": null,
   "id": "2f0c34d7-be23-4746-8f6f-7a4266d72b75",
   "metadata": {},
   "outputs": [],
   "source": []
  }
 ],
 "metadata": {
  "kernelspec": {
   "display_name": "Python 3 (ipykernel)",
   "language": "python",
   "name": "python3"
  },
  "language_info": {
   "codemirror_mode": {
    "name": "ipython",
    "version": 3
   },
   "file_extension": ".py",
   "mimetype": "text/x-python",
   "name": "python",
   "nbconvert_exporter": "python",
   "pygments_lexer": "ipython3",
   "version": "3.12.7"
  }
 },
 "nbformat": 4,
 "nbformat_minor": 5
}
