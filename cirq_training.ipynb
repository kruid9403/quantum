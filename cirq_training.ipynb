{
 "cells": [
  {
   "cell_type": "code",
   "execution_count": 1,
   "id": "27d43b90-16fd-4188-b9eb-188e80b72677",
   "metadata": {},
   "outputs": [],
   "source": [
    "try:\n",
    "    import cirq\n",
    "except:\n",
    "    !pip3 install cirq --quiet\n",
    "    import cirq"
   ]
  },
  {
   "cell_type": "code",
   "execution_count": 2,
   "id": "ebaf372a-e977-47e8-83f6-960d50eec162",
   "metadata": {},
   "outputs": [],
   "source": [
    "try:\n",
    "    import qsimcirq\n",
    "except:\n",
    "    !pip3 install qsimcirq -- quiet\n",
    "    import qsimcirq"
   ]
  },
  {
   "cell_type": "code",
   "execution_count": 3,
   "id": "5b03fc23-d8ec-43ca-831f-c6390de83d39",
   "metadata": {},
   "outputs": [
    {
     "name": "stdout",
     "output_type": "stream",
     "text": [
      "Circuit:\n",
      "0: ───H───@───\n",
      "          │\n",
      "1: ───────X───\n",
      "\n"
     ]
    }
   ],
   "source": [
    "q0, q1 = cirq.LineQubit.range(2)\n",
    "circuit = cirq.Circuit(cirq.H(q0), cirq.CX(q0, q1))\n",
    "print(\"Circuit:\")\n",
    "print(circuit)\n",
    "print()"
   ]
  },
  {
   "cell_type": "code",
   "execution_count": 4,
   "id": "e0679538-7bd4-4811-9386-4787ffdc24e3",
   "metadata": {},
   "outputs": [
    {
     "name": "stdout",
     "output_type": "stream",
     "text": [
      "Cirq results:\n",
      "measurements: (no measurements)\n",
      "\n",
      "qubits: (cirq.LineQubit(0), cirq.LineQubit(1))\n",
      "output vector: 0.707|00⟩ + 0.707|11⟩\n",
      "\n",
      "phase:\n",
      "output vector: |⟩\n"
     ]
    }
   ],
   "source": [
    "print(\"Cirq results:\")\n",
    "cirq_simulator = cirq.Simulator()\n",
    "cirq_results = cirq_simulator.simulate(circuit)\n",
    "print(cirq_results)\n"
   ]
  },
  {
   "cell_type": "code",
   "execution_count": 6,
   "id": "6762345b-1286-4de9-8a21-427af36d467b",
   "metadata": {},
   "outputs": [
    {
     "name": "stdout",
     "output_type": "stream",
     "text": [
      "qsim results\n",
      "measurements: (no measurements)\n",
      "\n",
      "qubits: (cirq.LineQubit(0), cirq.LineQubit(1))\n",
      "output vector: 0.707|00⟩ + 0.707|11⟩\n"
     ]
    }
   ],
   "source": [
    "print('qsim results')\n",
    "qsim_simulator = qsimcirq.QSimSimulator()\n",
    "qsim_results = qsim_simulator.simulate(circuit)\n",
    "print(qsim_results)"
   ]
  },
  {
   "cell_type": "code",
   "execution_count": 7,
   "id": "eb78f7a1-a7bb-4f7b-806c-40eb2b8bfaa9",
   "metadata": {},
   "outputs": [
    {
     "name": "stdout",
     "output_type": "stream",
     "text": [
      "[[0 0]\n",
      " [0 0]\n",
      " [1 1]\n",
      " [0 0]\n",
      " [1 1]\n",
      " [0 0]\n",
      " [0 0]\n",
      " [1 1]\n",
      " [1 1]\n",
      " [1 1]]\n"
     ]
    }
   ],
   "source": [
    "samples = cirq.sample_state_vector(\n",
    "    qsim_results.state_vector(), indices=[0,1], repetitions=10)\n",
    "print(samples)"
   ]
  },
  {
   "cell_type": "code",
   "execution_count": 8,
   "id": "38dd86c3-a858-4c82-a851-d8aea455c6d7",
   "metadata": {},
   "outputs": [
    {
     "name": "stdout",
     "output_type": "stream",
     "text": [
      "cirq results\n",
      "0: ───H───@───M('qubit_0')───\n",
      "          │\n",
      "1: ───X───X───M('qubit_1')───\n"
     ]
    }
   ],
   "source": [
    "q0,q1 = cirq.LineQubit.range(2)\n",
    "circuit = cirq.Circuit(\n",
    "    cirq.H(q0), cirq.X(q1), cirq.CX(q0,q1),\n",
    "    cirq.measure(q0, key='qubit_0'),\n",
    "    cirq.measure(q1, key = 'qubit_1')\n",
    ")\n",
    "print('cirq results')\n",
    "print(circuit)"
   ]
  },
  {
   "cell_type": "code",
   "execution_count": 11,
   "id": "7329e72b-66e0-49b0-85f9-da38380a59d0",
   "metadata": {},
   "outputs": [
    {
     "name": "stdout",
     "output_type": "stream",
     "text": [
      "cirq results\n",
      "qubit_0=10010\n",
      "qubit_1=01101\n",
      "\n",
      "qubit_0=00011\n",
      "qubit_1=11100\n"
     ]
    }
   ],
   "source": [
    "print('cirq results')\n",
    "cirq_simulator=cirq.Simulator()\n",
    "cirq_results = cirq_simulator.run(circuit, repetitions=5)\n",
    "print(cirq_results)\n",
    "print()\n",
    "\n",
    "qsim_simulator = qsimcirq.QSimSimulator()\n",
    "qsim_results=qsim_simulator.run(circuit, repetitions=5)\n",
    "print(qsim_results)"
   ]
  },
  {
   "cell_type": "code",
   "execution_count": null,
   "id": "2c155ae3-b551-4c73-8ac2-d74378ec6b58",
   "metadata": {},
   "outputs": [],
   "source": []
  }
 ],
 "metadata": {
  "kernelspec": {
   "display_name": "Python 3 (ipykernel)",
   "language": "python",
   "name": "python3"
  },
  "language_info": {
   "codemirror_mode": {
    "name": "ipython",
    "version": 3
   },
   "file_extension": ".py",
   "mimetype": "text/x-python",
   "name": "python",
   "nbconvert_exporter": "python",
   "pygments_lexer": "ipython3",
   "version": "3.12.7"
  }
 },
 "nbformat": 4,
 "nbformat_minor": 5
}
