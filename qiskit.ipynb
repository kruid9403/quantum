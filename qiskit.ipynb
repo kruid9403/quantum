{
 "cells": [
  {
   "cell_type": "code",
   "execution_count": 1,
   "id": "d3c1e2b3-1ff3-414b-9a79-d3461d39a090",
   "metadata": {},
   "outputs": [],
   "source": [
    "from qiskit import QuantumCircuit\n",
    "from qiskit.quantum_info import SparsePauliOp\n",
    "from qiskit.transpiler.preset_passmanagers import generate_preset_pass_manager\n",
    "from qiskit_ibm_runtime import QiskitRuntimeService, EstimatorV2 as Estimator\n",
    "\n",
    "from matplotlib import pyplot as plt"
   ]
  },
  {
   "cell_type": "code",
   "execution_count": 2,
   "id": "c3d2bf1b-fc0b-4ed9-a086-0e9318c3ac8d",
   "metadata": {},
   "outputs": [
    {
     "data": {
      "text/plain": [
       "<qiskit.circuit.instructionset.InstructionSet at 0x79ecb1285450>"
      ]
     },
     "execution_count": 2,
     "metadata": {},
     "output_type": "execute_result"
    }
   ],
   "source": [
    "qc = QuantumCircuit(2)\n",
    "qc.h(0)"
   ]
  },
  {
   "cell_type": "code",
   "execution_count": 3,
   "id": "74bed3cb-d48c-4dd0-95a8-bc3669027f07",
   "metadata": {},
   "outputs": [
    {
     "data": {
      "text/plain": [
       "<qiskit.circuit.instructionset.InstructionSet at 0x79ed2d9dd690>"
      ]
     },
     "execution_count": 3,
     "metadata": {},
     "output_type": "execute_result"
    }
   ],
   "source": [
    "qc.cx(0,1)"
   ]
  },
  {
   "cell_type": "code",
   "execution_count": 4,
   "id": "b078df1e-164e-4334-ade0-73fa85ac2b8b",
   "metadata": {},
   "outputs": [
    {
     "data": {
      "image/png": "[encoded data removed]",
      "text/plain": [
       "<Figure size 287.294x200.667 with 1 Axes>"
      ]
     },
     "execution_count": 4,
     "metadata": {},
     "output_type": "execute_result"
    }
   ],
   "source": [
    "qc.draw(\"mpl\")"
   ]
  },
  {
   "cell_type": "code",
   "execution_count": 5,
   "id": "8f78df2d-2a9d-4cf3-a7ee-a43373aa8048",
   "metadata": {},
   "outputs": [],
   "source": [
    "observables_labels = [\"IZ\",\"IX\",\"ZI\",\"XI\",\"ZZ\",\"XX\"]\n",
    "observables = [SparsePauliOp(label) for label in observables_labels]\n"
   ]
  },
  {
   "cell_type": "code",
   "execution_count": 6,
   "id": "5316e3a5-6d3f-4d0c-85ca-1dfb1ff20f88",
   "metadata": {},
   "outputs": [],
   "source": [
    "service = QiskitRuntimeService()\n",
    "backend = service.least_busy(simulator=False, operational=True)\n",
    "pm = generate_preset_pass_manager(backend=backend, optimization_level=1)"
   ]
  },
  {
   "cell_type": "code",
   "execution_count": 7,
   "id": "ee93c71e-0426-44cf-b563-e50f8d4b2d8d",
   "metadata": {},
   "outputs": [
    {
     "data": {
      "image/png": "[encoded data removed]",
      "text/plain": [
       "<Figure size 757.83x200.667 with 1 Axes>"
      ]
     },
     "execution_count": 7,
     "metadata": {},
     "output_type": "execute_result"
    }
   ],
   "source": [
    "\n",
    "isa_circuit = pm.run(qc)\n",
    "isa_circuit.draw(\"mpl\", idle_wires=False)"
   ]
  },
  {
   "cell_type": "code",
   "execution_count": 8,
   "id": "2a2d6952-ea36-49c3-9634-feced0737fa9",
   "metadata": {},
   "outputs": [],
   "source": [
    "estimator = Estimator(mode=backend)\n",
    "estimator.options.resilience_level = 1\n",
    "estimator.options.default_shots = 5000"
   ]
  },
  {
   "cell_type": "code",
   "execution_count": 9,
   "id": "d1bdb3bb-10f6-4368-a8e3-d59e87f97bd7",
   "metadata": {},
   "outputs": [],
   "source": [
    "mapped_observables = [\n",
    "    observable.apply_layout(isa_circuit.layout) for observable in observables\n",
    "]"
   ]
  },
  {
   "cell_type": "code",
   "execution_count": 10,
   "id": "18c86f9b-c1a0-445e-b08b-da5aaf9d4a0c",
   "metadata": {},
   "outputs": [],
   "source": [
    "job = estimator.run([(isa_circuit, mapped_observables)])"
   ]
  },
  {
   "cell_type": "code",
   "execution_count": 11,
   "id": "0a7ab21a-b722-4e56-8b40-565eed0a3ce8",
   "metadata": {},
   "outputs": [
    {
     "name": "stdout",
     "output_type": "stream",
     "text": [
      "<<< Job ID: cz4m3x710wx0008bfk3g\n"
     ]
    }
   ],
   "source": [
    "print(f\"<<< Job ID: {job.job_id()}\")\n",
    "#job.job_id() can be used to retrieve the information later."
   ]
  },
  {
   "cell_type": "code",
   "execution_count": null,
   "id": "6fa686b5-6326-4d95-94c7-4d7ab3c7585e",
   "metadata": {},
   "outputs": [],
   "source": [
    "job_result = job.result()\n",
    "pub_result = job.result()[0]"
   ]
  },
  {
   "cell_type": "code",
   "execution_count": null,
   "id": "672983b3-4989-4c6f-922b-d7e10460a4f6",
   "metadata": {},
   "outputs": [],
   "source": [
    "pub_result"
   ]
  },
  {
   "cell_type": "code",
   "execution_count": null,
   "id": "daaafd72-1b0e-4bd6-b9fa-b00f187badc6",
   "metadata": {},
   "outputs": [],
   "source": [
    "values = pub_result.data.evs\n",
    "errors = pub_result.data.stds"
   ]
  },
  {
   "cell_type": "code",
   "execution_count": null,
   "id": "65f6a61c-c0b0-4091-9448-61b9ea1492ce",
   "metadata": {},
   "outputs": [],
   "source": [
    "plt.plot(observables_labels, values, \"-0\")\n",
    "plt.xlabel(\"Observables\")\n",
    "plt.ylabel(\"Values\")\n",
    "plt.show()"
   ]
  },
  {
   "cell_type": "code",
   "execution_count": null,
   "id": "eac466c0-612e-4f06-9694-c694d6611f80",
   "metadata": {},
   "outputs": [],
   "source": [
    "def get_qc_for_n_qbit_GHZ_state(n: int) -> QuantumCircuit:\n",
    "    if isinstance(n,int) and n >=2:\n",
    "        qc = QuantumCircuit(n)\n",
    "        qc.h(0)\n",
    "        for i in range(n-1):\n",
    "            qc.cx(i, i+1)\n",
    "    else:\n",
    "        raise Exception(\"n is not a valid input\")\n",
    "    return qc\n",
    "\n",
    "n = 100\n",
    "qc = get_qc_for_n_qbit_GHZ_state(n)"
   ]
  },
  {
   "cell_type": "code",
   "execution_count": null,
   "id": "f9891173-bf49-487f-8949-da654b6a1ed1",
   "metadata": {
    "scrolled": true
   },
   "outputs": [],
   "source": [
    "from qiskit.quantum_info import SparsePauliOp\n",
    " \n",
    "# ZZII...II, ZIZI...II, ... , ZIII...IZ\n",
    "operator_strings = [\n",
    "    \"Z\" + \"I\" * i + \"Z\" + \"I\" * (n - 2 - i) for i in range(n - 1)\n",
    "]\n",
    "print(operator_strings)\n",
    "print(len(operator_strings))\n",
    " \n",
    "operators = [SparsePauliOp(operator) for operator in operator_strings]"
   ]
  },
  {
   "cell_type": "code",
   "execution_count": null,
   "id": "c765ca84-811c-4d42-8e57-b958e36075be",
   "metadata": {},
   "outputs": [],
   "source": []
  }
 ],
 "metadata": {
  "kernelspec": {
   "display_name": "Python 3 (ipykernel)",
   "language": "python",
   "name": "python3"
  },
  "language_info": {
   "codemirror_mode": {
    "name": "ipython",
    "version": 3
   },
   "file_extension": ".py",
   "mimetype": "text/x-python",
   "name": "python",
   "nbconvert_exporter": "python",
   "pygments_lexer": "ipython3",
   "version": "3.12.7"
  }
 },
 "nbformat": 4,
 "nbformat_minor": 5
}
