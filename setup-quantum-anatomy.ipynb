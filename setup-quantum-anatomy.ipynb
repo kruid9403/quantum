{
 "cells": [
  {
   "cell_type": "code",
   "execution_count": 1,
   "id": "d2303ccd-e55c-49a0-88ee-fafbd39f597b",
   "metadata": {},
   "outputs": [],
   "source": [
    "import numpy as np\n",
    "from qiskit.circuit.library import IQP\n",
    "from qiskit.quantum_info import SparsePauliOp, random_hermitian\n",
    "from qiskit_ibm_runtime import Estimator, QiskitRuntimeService\n",
    "from qiskit import transpile"
   ]
  },
  {
   "cell_type": "code",
   "execution_count": 2,
   "id": "7bae3945-b13c-41c6-9ba6-02e1204eea12",
   "metadata": {},
   "outputs": [],
   "source": [
    "service=QiskitRuntimeService()\n",
    "backend=service.backend(\"ibm_brisbane\")"
   ]
  },
  {
   "cell_type": "code",
   "execution_count": 3,
   "id": "1133b548-0d7c-4049-b5b1-a86594f3024b",
   "metadata": {},
   "outputs": [],
   "source": [
    "n_qubits=127\n",
    "mat = np.real(random_hermitian(n_qubits, seed=1234))\n",
    "circuit=IQP(mat)\n",
    "observable=SparsePauliOp(\"Z\" * n_qubits)"
   ]
  },
  {
   "cell_type": "code",
   "execution_count": 4,
   "id": "ff33ab44-94d9-4376-9dbb-39de845f7b27",
   "metadata": {},
   "outputs": [],
   "source": [
    "estimator=Estimator(backend)"
   ]
  },
  {
   "cell_type": "code",
   "execution_count": 6,
   "id": "8aafadb3-d70d-4f82-9d09-0b5af54c8bbc",
   "metadata": {},
   "outputs": [
    {
     "name": "stdout",
     "output_type": "stream",
     "text": [
      "PubResult(data=DataBin(evs=np.ndarray(<shape=(), dtype=float64>), stds=np.ndarray(<shape=(), dtype=float64>), ensemble_standard_error=np.ndarray(<shape=(), dtype=float64>)), metadata={'shots': 4096, 'target_precision': 0.015625, 'circuit_metadata': {}, 'resilience': {}, 'num_randomizations': 32})\n"
     ]
    }
   ],
   "source": [
    "transpiled_circuit=transpile(circuit,backend)\n",
    "job=estimator.run([(transpiled_circuit, observable)])\n",
    "result=job.result()\n",
    "print(result[0])"
   ]
  },
  {
   "cell_type": "code",
   "execution_count": null,
   "id": "862ffc6d-bb11-4d27-9139-c1e8c6df1176",
   "metadata": {},
   "outputs": [],
   "source": []
  }
 ],
 "metadata": {
  "kernelspec": {
   "display_name": "Python 3 (ipykernel)",
   "language": "python",
   "name": "python3"
  },
  "language_info": {
   "codemirror_mode": {
    "name": "ipython",
    "version": 3
   },
   "file_extension": ".py",
   "mimetype": "text/x-python",
   "name": "python",
   "nbconvert_exporter": "python",
   "pygments_lexer": "ipython3",
   "version": "3.12.7"
  }
 },
 "nbformat": 4,
 "nbformat_minor": 5
}
